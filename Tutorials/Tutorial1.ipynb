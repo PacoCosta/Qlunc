{
 "cells": [
  {
   "cell_type": "markdown",
   "metadata": {},
   "source": [
    "#### Qlunc tutorial by Francisco Costa\n",
    "# **Tutorial 1**\n",
    "## Qlunc step by step\n",
    "\n",
    "This tutorial aims to facilitate the introduction to Qlunc. \n",
    "Will go through the code and create a lidar device with \"optics\" and \"photonics\" modules. Will ask for uncertainties either lidar general one or component specific uncertainty. We will see some graphical interesting results. Will see how to access  lidar design data. \n",
    "\n",
    "* **Some steps are not deeply explained since it is not necessary for the sake of this tutorial. The main goal of the tutorial is to show how the lidar digital twin is built and the interaction between different modules.**"
   ]
  },
  {
   "cell_type": "markdown",
   "metadata": {},
   "source": [
    "Importing some packages is always needed:"
   ]
  },
  {
   "cell_type": "code",
   "execution_count": 1,
   "metadata": {},
   "outputs": [],
   "source": [
    "import os\n",
    "os.chdir('../')\n",
    "# importing  uncertainty functions\n",
    "import Utils.Qlunc_Help_standAlone as SA, UQ_Functions.UQ_Photonics_Classes as uphc,UQ_Functions.UQ_Optics_Classes as uopc, UQ_Functions.UQ_Power_Classes as upwc,UQ_Functions.UQ_Lidar_Classes as ulc, UQ_Functions.UQ_ProbeVolume_Classes as upbc,UQ_Functions.UQ_Data_processing_Classes as uprm\n",
    "from Utils.Qlunc_ImportModules import *"
   ]
  },
  {
   "cell_type": "markdown",
   "metadata": {},
   "source": [
    "### Qlunc inputs:  "
   ]
  },
  {
   "cell_type": "markdown",
   "metadata": {},
   "source": [
    "A [.yml template](https://github.com/PacoCosta/Qlunc/blob/Qlunc-V0.9/Main/Template_yaml_inputs_file.yml) is included in the repository. To accomplish this tutorial a yaml file is already filled. \n",
    "\n",
    "The code below imports the `yaml` file."
   ]
  },
  {
   "cell_type": "code",
   "execution_count": 2,
   "metadata": {},
   "outputs": [
    {
     "ename": "FileNotFoundError",
     "evalue": "[Errno 2] No such file or directory: './Tutorials/yaml_inputs_file_1.yml'",
     "output_type": "error",
     "traceback": [
      "\u001b[1;31m---------------------------------------------------------------------------\u001b[0m",
      "\u001b[1;31mFileNotFoundError\u001b[0m                         Traceback (most recent call last)",
      "\u001b[1;32m<ipython-input-2-465483872f76>\u001b[0m in \u001b[0;36m<module>\u001b[1;34m\u001b[0m\n\u001b[0;32m      1\u001b[0m \u001b[1;31m# Obtain data from .yaml file:\u001b[0m\u001b[1;33m\u001b[0m\u001b[1;33m\u001b[0m\u001b[1;33m\u001b[0m\u001b[0m\n\u001b[1;32m----> 2\u001b[1;33m \u001b[1;32mwith\u001b[0m \u001b[0mopen\u001b[0m \u001b[1;33m(\u001b[0m\u001b[1;34mr'./Tutorials/yaml_inputs_file_1.yml'\u001b[0m\u001b[1;33m,\u001b[0m\u001b[1;34m'r'\u001b[0m\u001b[1;33m)\u001b[0m \u001b[1;32mas\u001b[0m \u001b[0mfile\u001b[0m\u001b[1;33m:\u001b[0m\u001b[1;33m\u001b[0m\u001b[1;33m\u001b[0m\u001b[0m\n\u001b[0m\u001b[0;32m      3\u001b[0m     \u001b[0mQlunc_yaml_inputs\u001b[0m\u001b[1;33m=\u001b[0m\u001b[1;33m{\u001b[0m\u001b[1;33m}\u001b[0m\u001b[1;33m\u001b[0m\u001b[1;33m\u001b[0m\u001b[0m\n\u001b[0;32m      4\u001b[0m     \u001b[0mdocs\u001b[0m \u001b[1;33m=\u001b[0m \u001b[0myaml\u001b[0m\u001b[1;33m.\u001b[0m\u001b[0mload_all\u001b[0m\u001b[1;33m(\u001b[0m\u001b[0mfile\u001b[0m\u001b[1;33m,\u001b[0m \u001b[0mLoader\u001b[0m\u001b[1;33m=\u001b[0m\u001b[0myaml\u001b[0m\u001b[1;33m.\u001b[0m\u001b[0mFullLoader\u001b[0m\u001b[1;33m)\u001b[0m\u001b[1;33m\u001b[0m\u001b[1;33m\u001b[0m\u001b[0m\n\u001b[0;32m      5\u001b[0m     \u001b[1;32mfor\u001b[0m \u001b[0mdoc\u001b[0m \u001b[1;32min\u001b[0m \u001b[0mdocs\u001b[0m\u001b[1;33m:\u001b[0m\u001b[1;33m\u001b[0m\u001b[1;33m\u001b[0m\u001b[0m\n",
      "\u001b[1;31mFileNotFoundError\u001b[0m: [Errno 2] No such file or directory: './Tutorials/yaml_inputs_file_1.yml'"
     ]
    }
   ],
   "source": [
    "# Obtain data from .yaml file:\n",
    "with open (r'./Tutorials/yaml_inputs_file_1.yml','r') as file:\n",
    "    Qlunc_yaml_inputs={}\n",
    "    docs = yaml.load_all(file, Loader=yaml.FullLoader)\n",
    "    for doc in docs:      \n",
    "        for k, v in doc.items():     \n",
    "            Qlunc_yaml_inputs.setdefault(k,v)"
   ]
  },
  {
   "cell_type": "markdown",
   "metadata": {},
   "source": [
    "We obtain a dictionary, a well-known python object, with all the data introduced in the `yaml` file. Let´s have a look to the data:"
   ]
  },
  {
   "cell_type": "code",
   "execution_count": 3,
   "metadata": {},
   "outputs": [
    {
     "data": {
      "text/plain": [
       "{'Main_directory': './Tutorials',\n",
       " 'Project': 'Gandia',\n",
       " 'Components': {'Scanner': {'Name': 'Scanner_Yaml',\n",
       "   'Origin': [0, 0, 0],\n",
       "   'Pattern time': 20,\n",
       "   'Single point measuring time': 2,\n",
       "   'Lissajous parameters': [100, 50, 50, 3, 3],\n",
       "   'Sample rate': 0,\n",
       "   'Type': 'VAD',\n",
       "   'Pattern': 'None',\n",
       "   'stdv focus distance': 1,\n",
       "   'stdv Cone angle': 2,\n",
       "   'stdv Azimuth': 3,\n",
       "   'Focus distance': [125],\n",
       "   'Cone angle': [15],\n",
       "   'Azimuth': [0, 360],\n",
       "   'x': [160, 160, 160, 160],\n",
       "   'y': [50, -50, -50, 50],\n",
       "   'z': [46.21070722778538, 46.21070722778538, -46.21070722778537, -85],\n",
       "   'Uncertainty function': 'uopc.UQ_Scanner'},\n",
       "  'Optical Circulator': {'Name': 'OC_Yaml',\n",
       "   'Insertion loss': 0.8,\n",
       "   'SNR': 60,\n",
       "   'Uncertainty function': 'uopc.UQ_OpticalCirculator'},\n",
       "  'Telescope': {'Name': 'Telescope_YAML',\n",
       "   'Aperture': 0.02,\n",
       "   'Focal length': 0.5,\n",
       "   'Fiber-lens distance': 0.0024,\n",
       "   'Fiber-lens offset': 0.498,\n",
       "   'Effective radius telescope': 0.0166,\n",
       "   'Output beam radius': 0.02,\n",
       "   'Pulse shape': 1.65e-07,\n",
       "   'Gate length': 2.65e-07,\n",
       "   'Stdv Aperture': 2e-06,\n",
       "   'stdv Focal length': 1e-06,\n",
       "   'stdv Fiber-lens distance': 1e-06,\n",
       "   'stdv Fiber-lens offset': 1e-06,\n",
       "   'stdv Effective radius telescope': 1e-06,\n",
       "   'Uncertainty function': 'uopc.UQ_Telescope'},\n",
       "  'Optical Amplifier': {'Name': 'OA_Yaml',\n",
       "   'Optical amplifier BW': 12500000000000.0,\n",
       "   'Optical amplifier noise figure': 'metadata/NoiseFigure.csv',\n",
       "   'Optical amplifier gain': 30,\n",
       "   'Power interval': [0, 1, 0.001],\n",
       "   'Uncertainty function': 'uphc.UQ_Optical_amplifier'},\n",
       "  'Photodetector': {'Name': 'Photodetector_YAML',\n",
       "   'Photodetector BandWidth': 1000000000.0,\n",
       "   'Load resistor': 50,\n",
       "   'Photodetector efficiency': 0.85,\n",
       "   'Dark current': 5e-09,\n",
       "   'Photodetector signalP': 0.001,\n",
       "   'Power interval': [1e-06, 1, 1e-05],\n",
       "   'Gain TIA': 5000.0,\n",
       "   'Active Surface': 1,\n",
       "   'V Noise TIA': 'None',\n",
       "   'Uncertainty function': 'uphc.UQ_Photodetector'},\n",
       "  'Laser': {'Name': 'Laser_YAML',\n",
       "   'Wavelength': 1.55e-06,\n",
       "   'stdv Wavelength': 1e-09,\n",
       "   'Confidence interval': 3,\n",
       "   'Output power': 0.0125,\n",
       "   'Bandwidth': 250,\n",
       "   'RIN': -165,\n",
       "   'Uncertainty function': 'uphc.UQ_Laser'},\n",
       "  'AOM': {'Name': 'AOM_YAML', 'Insertion loss': 0.5},\n",
       "  'Lidar general inputs': {'Name': 'Lidar_gral_inputs_Yaml',\n",
       "   'Type': 'CW',\n",
       "   'Wavelength': 1.55e-06,\n",
       "   'Yaw error': 0,\n",
       "   'Pitch error': 0,\n",
       "   'Roll error': 0}},\n",
       " 'Modules': {'Optics Module': {'Name': 'Optics_module_Yaml',\n",
       "   'Scanner': 'Scanner',\n",
       "   'Optical circulator': 'Optical_circulator',\n",
       "   'Telescope': 'Telescope',\n",
       "   'Uncertainty function': 'uopc.sum_unc_optics'},\n",
       "  'Photonics Module': {'Name': 'Photonics_module_Yaml',\n",
       "   'Photodetector': 'Photodetector',\n",
       "   'Optical amplifier': 'Optical_Amplifier',\n",
       "   'Laser': 'Laser',\n",
       "   'Uncertainty function': 'uphc.sum_unc_photonics'}},\n",
       " 'Lidar': {'Name': 'Caixa1',\n",
       "  'Photonics module': 'Photonics_Module',\n",
       "  'Optics module': 'Optics_Module',\n",
       "  'Power module': 'None',\n",
       "  'Lidar inputs': 'Lidar_inputs',\n",
       "  'Uncertainty function': 'ulc.sum_unc_lidar'},\n",
       " 'WFR model': {'Name': 'WFR_Yaml', 'Model': 'None'},\n",
       " 'Filtering method': {'Name': 'Filtering_Yaml', 'Method': 'CNR'},\n",
       " 'Atmospheric_inputs': {'Name': 'Atmosphere_Yaml',\n",
       "  'TimeSeries': False,\n",
       "  'Atmos_TS_FILE': 'AtmosphericScenarios.csv',\n",
       "  'Temperature': [300],\n",
       "  'Humidity': [12],\n",
       "  'Rain': True,\n",
       "  'Fog': False},\n",
       " 'Probe Volume': {'Name': 'Probe_Yaml', 'Extinction coeficient': 0.085},\n",
       " 'Flags': {'Pointing accuracy uncertainty': False,\n",
       "  'Scanning Pattern': True,\n",
       "  'Photodetector noise': False,\n",
       "  'Save Scanning Coordinates': False,\n",
       "  'Probe Volume parameters': False,\n",
       "  'Optical_amplifier_noise': False}}"
      ]
     },
     "execution_count": 3,
     "metadata": {},
     "output_type": "execute_result"
    }
   ],
   "source": [
    "Qlunc_yaml_inputs"
   ]
  },
  {
   "cell_type": "markdown",
   "metadata": {},
   "source": [
    "Now we have the component inputs, let's create them."
   ]
  },
  {
   "cell_type": "markdown",
   "metadata": {},
   "source": [
    "### **Creating the lidar classes**:"
   ]
  },
  {
   "cell_type": "markdown",
   "metadata": {},
   "source": [
    "We create the python classes by running the Qlunc Core: `Qlunc_Classes.py`. Here we run a copy of `Qlunc_Classes.py` named `WorkingExample_Tutorial.py` created for the sake of this example."
   ]
  },
  {
   "cell_type": "code",
   "execution_count": 4,
   "metadata": {},
   "outputs": [],
   "source": [
    "# Execute Qlunc_Classes.py (creating classes for lidar 'objects'):\n",
    "exec(open(Qlunc_yaml_inputs['Main_directory']+'/WorkingExample_Tutorial.py').read())"
   ]
  },
  {
   "cell_type": "code",
   "execution_count": 5,
   "metadata": {},
   "outputs": [
    {
     "name": "stdout",
     "output_type": "stream",
     "text": [
      " Volume in drive C has no label.\n",
      " Volume Serial Number is 0C54-9785\n",
      "\n",
      " Directory of C:\\SWE_LOCAL\\GIT_Qlunc\n",
      "\n",
      "30.12.2021  11:54    <DIR>          .\n",
      "30.12.2021  11:54    <DIR>          ..\n",
      "08.12.2021  16:36    <DIR>          .github\n",
      "30.12.2021  11:54               309 .gitignore\n",
      "08.12.2021  16:36    <DIR>          .pylint.d\n",
      "08.12.2021  16:36    <DIR>          Docs\n",
      "29.11.2021  22:11               481 environment.yml\n",
      "30.03.2021  01:01             1.566 LICENSE\n",
      "03.01.2022  13:49    <DIR>          Main\n",
      "03.01.2022  15:02    <DIR>          metadata\n",
      "08.12.2021  16:36    <DIR>          Pictures_repo_\n",
      "03.01.2022  15:02    <DIR>          Projects\n",
      "29.11.2021  22:11             8.408 readme.md\n",
      "08.12.2021  16:36    <DIR>          Sphinx4Qlunc\n",
      "08.12.2021  16:36    <DIR>          TestFiles_Qlunc\n",
      "03.01.2022  16:56    <DIR>          Tutorials\n",
      "08.12.2021  16:36    <DIR>          UnderDevelopment\n",
      "03.01.2022  16:58    <DIR>          UQ_Functions\n",
      "30.12.2021  11:54    <DIR>          Utils\n",
      "30.03.2021  01:01                93 __init__.py\n",
      "08.12.2021  16:36    <DIR>          __pycache__\n",
      "               5 File(s)         10.857 bytes\n",
      "              16 Dir(s)  136.543.039.488 bytes free\n"
     ]
    },
    {
     "data": {
      "text/plain": [
       "'./Tutorials'"
      ]
     },
     "execution_count": 5,
     "metadata": {},
     "output_type": "execute_result"
    }
   ],
   "source": [
    "!dir\n",
    "Qlunc_yaml_inputs['Main_directory']"
   ]
  },
  {
   "cell_type": "markdown",
   "metadata": {},
   "source": [
    "The main directory is taken from the yaml file, as well as the rest of the lidar parameters, including plotting flags which states what we want to plot"
   ]
  },
  {
   "cell_type": "markdown",
   "metadata": {},
   "source": [
    "### **Creating the lidar digital twin**:"
   ]
  },
  {
   "cell_type": "markdown",
   "metadata": {},
   "source": [
    "We can now begin building up the lidar device and we will do it modularly. \n",
    "#### Scanner digital twin:\n",
    "Will begin with the optics module and want to include in here two components: a scanner and an optical circulator, wich characteristics has been introduced in the yaml file.\n",
    "\n",
    "Then, we can instance the class _scanner_ and the class _optical_circulator_ to build up an _optics_module_ wich, in turn, is created by instantiating the class _optics_module_.\n",
    "\n",
    "Let's instantiate the class _scanner_ to \"create\" the scanner object:"
   ]
  },
  {
   "cell_type": "code",
   "execution_count": 6,
   "metadata": {},
   "outputs": [
    {
     "name": "stdout",
     "output_type": "stream",
     "text": [
      "Created new scanner: Scanner_Yaml\n"
     ]
    }
   ],
   "source": [
    "# Instantiating scanner class to create a Scanner virtual-twin\n",
    "\n",
    "Scanner           = scanner(name            = Qlunc_yaml_inputs['Components']['Scanner']['Name'],           # Introduce your scanner name.\n",
    "                            scanner_type    = Qlunc_yaml_inputs['Components']['Scanner']['Type'],\n",
    "                            origin          = Qlunc_yaml_inputs['Components']['Scanner']['Origin'],         # Origin (coordinates of the lidar deployment).\n",
    "                            pattern         = Qlunc_yaml_inputs['Components']['Scanner']['Pattern'],\n",
    "                            lissajous_param = Qlunc_yaml_inputs['Components']['Scanner']['Lissajous parameters'],\n",
    "                            sample_rate     = Qlunc_yaml_inputs['Components']['Scanner']['Sample rate'],    # for now introduce it in [degrees].\n",
    "                            time_pattern    = Qlunc_yaml_inputs['Components']['Scanner']['Pattern time'],\n",
    "                            time_point      = Qlunc_yaml_inputs['Components']['Scanner']['Single point measuring time'],      \n",
    "                           # This values for focus distance, cone_angle and azimuth define a typical VAD scanning sequence:\n",
    "                               # I changed azimuth calculations because with \"np.arange\" we do not capture the last point in the pattern. \"np.arange does not include the last point\"; np.linspace capture all the points.\n",
    "                               # Furthermore, once the time of the pattern is included in the pattern, we will do calculations based on the n° of points yielded by the ratio: time_pattern[sec]/time_point[sec/point]\n",
    "                               # HAve to decide if wnat np.arange or np.linspace here (azimuth). If 360° is chosen for azimuth, np.arange works, but np.linspace doesn't\n",
    "                            azimuth         = np.array(np.arange(Qlunc_yaml_inputs['Components']['Scanner']['Azimuth'][0],                                                  \n",
    "                                                                  Qlunc_yaml_inputs['Components']['Scanner']['Azimuth'][1],\n",
    "                                                                  math.floor((Qlunc_yaml_inputs['Components']['Scanner']['Azimuth'][1]-Qlunc_yaml_inputs['Components']['Scanner']['Azimuth'][0])/(Qlunc_yaml_inputs['Components']['Scanner']['Pattern time']/Qlunc_yaml_inputs['Components']['Scanner']['Single point measuring time'])))), # Azimuth angle in [degrees].\n",
    "                            \n",
    "                            # azimuth         = np.array(np.linspace(Qlunc_yaml_inputs['Components']['Scanner']['Azimuth'][0],                                                  \n",
    "                            #                                         Qlunc_yaml_inputs['Components']['Scanner']['Azimuth'][1],\n",
    "                            #                                         math.floor(Qlunc_yaml_inputs['Components']['Scanner']['Pattern time']/Qlunc_yaml_inputs['Components']['Scanner']['Single point measuring time']))), # Azimuth angle in [degrees].                                  \n",
    "                            focus_dist      = np.tile(Qlunc_yaml_inputs['Components']['Scanner']['Focus distance'],(1,len(np.linspace(Qlunc_yaml_inputs['Components']['Scanner']['Azimuth'][0],                                                  \n",
    "                                                                   Qlunc_yaml_inputs['Components']['Scanner']['Azimuth'][1],\n",
    "                                                                   math.floor(Qlunc_yaml_inputs['Components']['Scanner']['Pattern time']/Qlunc_yaml_inputs['Components']['Scanner']['Single point measuring time'])))))[0],   # Focus distance in [meters]                                                                                                \n",
    "                            cone_angle      = np.tile(Qlunc_yaml_inputs['Components']['Scanner']['Cone angle'],(1,len(np.linspace(Qlunc_yaml_inputs['Components']['Scanner']['Azimuth'][0],                                                  \n",
    "                                                                   Qlunc_yaml_inputs['Components']['Scanner']['Azimuth'][1],\n",
    "                                                                   math.floor(Qlunc_yaml_inputs['Components']['Scanner']['Pattern time']/Qlunc_yaml_inputs['Components']['Scanner']['Single point measuring time'])))))[0],   # Cone angle in [degrees].\n",
    "                            x               = np.array(Qlunc_yaml_inputs['Components']['Scanner']['x']),\n",
    "                            y               = np.array(Qlunc_yaml_inputs['Components']['Scanner']['y']),\n",
    "                            z               = np.array(Qlunc_yaml_inputs['Components']['Scanner']['z']),\n",
    "                            stdv_focus_dist = Qlunc_yaml_inputs['Components']['Scanner']['stdv focus distance'],                 # Focus distance standard deviation in [meters].\n",
    "                            stdv_cone_angle = Qlunc_yaml_inputs['Components']['Scanner']['stdv Cone angle'],                 # Cone angle standard deviation in [degrees].\n",
    "                            stdv_azimuth    = Qlunc_yaml_inputs['Components']['Scanner']['stdv Azimuth'],                 # Azimuth angle standard deviation in [degrees].\n",
    "                            unc_func        = uopc.UQ_Scanner) #eval(Qlunc_yaml_inputs['Components']['Scanner']['Uncertainty function']) )    # here you put the function describing your scanner uncertainty. \n"
   ]
  },
  {
   "cell_type": "markdown",
   "metadata": {},
   "source": [
    "The label \"Yaml\" in the name of the device informs us that the data was taken from a yaml file and not manually, instantiating the class in question.\n",
    "\n",
    "#### Optical circulator digital twin:\n",
    "Then we can create the optical circulator by instantiating the optical_circulator class as follows:"
   ]
  },
  {
   "cell_type": "code",
   "execution_count": 7,
   "metadata": {},
   "outputs": [
    {
     "name": "stdout",
     "output_type": "stream",
     "text": [
      "Created new optical circulator: OC_Yaml\n"
     ]
    }
   ],
   "source": [
    "#Optical Circulator:\n",
    "\n",
    "Optical_circulator = optical_circulator (name           = Qlunc_yaml_inputs['Components']['Optical Circulator']['Name'],       # Introduce your Optical circulator name.\n",
    "                                         insertion_loss = Qlunc_yaml_inputs['Components']['Optical Circulator']['Insertion loss'],                        # In [dB]. Insertion loss parameters.\n",
    "                                         SNR            = Qlunc_yaml_inputs['Components']['Optical Circulator']['SNR'], # [dB] SNR optical circulator\n",
    "                                         unc_func       = uopc.UQ_OpticalCirculator) #eval(Qlunc_yaml_inputs['Components']['Optical Circulator']['Uncertainty function']))  # Function describing your scanner uncertainty.  Further informaion in \"UQ_Optics_Classes.py\" comments.\n",
    "\n"
   ]
  },
  {
   "cell_type": "markdown",
   "metadata": {},
   "source": [
    "We provide the code with the probe volume and wind field reconstruction characteristics:"
   ]
  },
  {
   "cell_type": "code",
   "execution_count": 8,
   "metadata": {},
   "outputs": [
    {
     "name": "stdout",
     "output_type": "stream",
     "text": [
      "Class \"Probe volume\" created\n"
     ]
    }
   ],
   "source": [
    "Probe_Volume = probe_volume (name                       = Qlunc_yaml_inputs['Probe Volume']['Name'],\n",
    "                             extinction_coef            = Qlunc_yaml_inputs['Probe Volume']['Extinction coeficient'],\n",
    "                             unc_func                   = upbc.UQ_Probe_volume)\n"
   ]
  },
  {
   "cell_type": "code",
   "execution_count": 9,
   "metadata": {},
   "outputs": [
    {
     "name": "stdout",
     "output_type": "stream",
     "text": [
      "Selected wfr model: None terrain\n"
     ]
    }
   ],
   "source": [
    "WFR_M = wfr (name                 = Qlunc_yaml_inputs['WFR model']['Name'],\n",
    "             reconstruction_model = Qlunc_yaml_inputs['WFR model']['Model'],\n",
    "             unc_func             = uprm.UQ_WFR)"
   ]
  },
  {
   "cell_type": "markdown",
   "metadata": {},
   "source": [
    "#### Optics module digital twin: \n",
    "Then we create the optics module by puting all optic components created so far (_Scanner_ and _Optical_circulator_) together"
   ]
  },
  {
   "cell_type": "code",
   "execution_count": 10,
   "metadata": {},
   "outputs": [
    {
     "name": "stdout",
     "output_type": "stream",
     "text": [
      "Created new optic module: Optics_module_Yaml\n"
     ]
    }
   ],
   "source": [
    "# Optics Module:\n",
    "Optics_Module =  optics (name               = Qlunc_yaml_inputs['Modules']['Optics Module']['Name'],     # Introduce your Optics Module name.\n",
    "                         scanner            = Scanner, #eval(Qlunc_yaml_inputs['Modules']['Optics Module']['Scanner']),             # Scanner instance (in this example \"Scanner\") or \"None\". \"None\" means that you don´t want to include Scanner in Optics Module, either in uncertainty calculations.\n",
    "                         optical_circulator = Optical_circulator ,#eval(Qlunc_yaml_inputs['Modules']['Optics Module']['Optical circulator']),  # Optical Circulator instance (in this example \"Optical_circulator\") or \"None\". \"None\" means that you don´t want to include Optical circulator in Optics Module, either in uncertainty calculations.\n",
    "                         telescope          = None,                         \n",
    "                         unc_func           = uopc.sum_unc_optics) #eval(Qlunc_yaml_inputs['Modules']['Optics Module']['Uncertainty function']))\n"
   ]
  },
  {
   "cell_type": "markdown",
   "metadata": {},
   "source": [
    "We have already created the optics module. Following the same method we can create the rest of the components and modules by instantiating their corresponding classes.\n",
    "\n",
    "#### Optical amplifier digital twin:\n",
    "Let's create the photonics module. First we do instantiate its components namely, photodetector and optical amplifier."
   ]
  },
  {
   "cell_type": "code",
   "execution_count": 11,
   "metadata": {},
   "outputs": [
    {
     "name": "stdout",
     "output_type": "stream",
     "text": [
      "Created new optical amplifier: OA_Yaml\n"
     ]
    }
   ],
   "source": [
    "Optical_Amplifier = optical_amplifier(name             = Qlunc_yaml_inputs['Components']['Optical Amplifier']['Name'],        # Introduce your scanner name.\n",
    "                                      NoiseFig         = Qlunc_yaml_inputs['Components']['Optical Amplifier']['Optical amplifier noise figure'],          # In [dB]. Can introduce it as a table from manufactures (in this example the data is taken from Thorlabs.com, in section EDFA\\Graps) or introduce a single well-known value\n",
    "                                      OA_Gain          = Qlunc_yaml_inputs['Components']['Optical Amplifier']['Optical amplifier gain'],                         # In [dB]. (in this example the data is taken from Thorlabs.com, in section EDFA\\Specs)\n",
    "                                      OA_BW            = Qlunc_yaml_inputs['Components']['Optical Amplifier']['Optical amplifier BW'],\n",
    "                                      Power_interval   = np.array(np.arange(Qlunc_yaml_inputs['Components']['Optical Amplifier']['Power interval'][0],\n",
    "                                                                            Qlunc_yaml_inputs['Components']['Optical Amplifier']['Power interval'][1],\n",
    "                                                                            Qlunc_yaml_inputs['Components']['Optical Amplifier']['Power interval'][2])),\n",
    "                                      unc_func         = uphc.UQ_Optical_amplifier) #eval(Qlunc_yaml_inputs['Components']['Optical Amplifier']['Uncertainty function']))  # Function describing Optical Amplifier uncertainty. Further informaion in \"UQ_Photonics_Classes.py\" comments.\n"
   ]
  },
  {
   "cell_type": "markdown",
   "metadata": {},
   "source": [
    "#### Photodetector digital twin:"
   ]
  },
  {
   "cell_type": "code",
   "execution_count": 12,
   "metadata": {},
   "outputs": [
    {
     "name": "stdout",
     "output_type": "stream",
     "text": [
      "Created new photodetector: Photodetector_YAML\n"
     ]
    }
   ],
   "source": [
    "# Instantiating Photodetector:\n",
    "Photodetector    = photodetector(name             = Qlunc_yaml_inputs['Components']['Photodetector']['Name'],               # Introduce your photodetector name.\n",
    "                                 Photo_BandWidth  = Qlunc_yaml_inputs['Components']['Photodetector']['Photodetector BandWidth'],                  # In[]. Photodetector bandwidth\n",
    "                                 Load_Resistor    = Qlunc_yaml_inputs['Components']['Photodetector']['Load resistor'],                     # In [ohms]\n",
    "                                 Photo_efficiency = Qlunc_yaml_inputs['Components']['Photodetector']['Photodetector efficiency'],                    # Photodetector efficiency [-]\n",
    "                                 Dark_Current     = Qlunc_yaml_inputs['Components']['Photodetector']['Dark current'],                   #  In [A]. Dark current in the photodetector.\n",
    "                                 Photo_SignalP    = Qlunc_yaml_inputs['Components']['Photodetector']['Photodetector signalP'],\n",
    "                                 Power_interval   = np.array(np.arange(Qlunc_yaml_inputs['Components']['Photodetector']['Power interval'][0],\n",
    "                                                                       Qlunc_yaml_inputs['Components']['Photodetector']['Power interval'][1],\n",
    "                                                                       Qlunc_yaml_inputs['Components']['Photodetector']['Power interval'][2])),#np.arange(Qlunc_yaml_inputs['Components']['Photodetector']['Power interval']), # In [w]. Power interval for the photodetector domain in photodetector SNR plot. \n",
    "                                 Active_Surf      = Qlunc_yaml_inputs['Components']['Photodetector']['Active Surface'],\n",
    "                                 Gain_TIA         = Qlunc_yaml_inputs['Components']['Photodetector']['Gain TIA'],                    # In [dB]. If there is a transimpedance amplifier.\n",
    "                                 V_Noise_TIA      = Qlunc_yaml_inputs['Components']['Photodetector']['V Noise TIA'],                 # In [V]. If there is a transimpedance amplifier.\n",
    "                                 \n",
    "                                 unc_func         = uphc.UQ_Photodetector) #eval(Qlunc_yaml_inputs['Components']['Photodetector']['Uncertainty function']))  # Function describing Photodetector uncertainty. Further informaion in \"UQ_Photonics_Classes.py\" comments.\n",
    "\n"
   ]
  },
  {
   "cell_type": "markdown",
   "metadata": {},
   "source": [
    "#### Photonics module digital twin:\n",
    "And finally the Photonics module:"
   ]
  },
  {
   "cell_type": "code",
   "execution_count": 13,
   "metadata": {},
   "outputs": [
    {
     "name": "stdout",
     "output_type": "stream",
     "text": [
      "Created new photonic module: Photonics_module_Yaml\n"
     ]
    }
   ],
   "source": [
    "# Instantiating Photonics module:\n",
    "Photonics_Module = photonics(name                    = Qlunc_yaml_inputs['Modules']['Photonics Module']['Name'],        # Introduce your Photonics module name\n",
    "                             photodetector           = Photodetector, #eval(Qlunc_yaml_inputs['Modules']['Photonics Module']['Photodetector']),             # Photodetector instance (in this example \"Photodetector\") or \"None\". \"None\" means that you don´t want to include photodetector in Photonics Module, either in uncertainty calculations.\n",
    "                             optical_amplifier       = Optical_Amplifier, #'None',##eval(Qlunc_yaml_inputs['Modules']['Photonics Module']['Optical amplifier']),         # Scanner instance (in this example \"OpticalAmplifier\") or \"None\". \"None\" means that you don´t want to include Optical Amplifier in Photonics Module, either in uncertainty calculations.\n",
    "                             laser                   = 'None', #Laser,\n",
    "                             acousto_optic_modulator = 'None', #AOM,\n",
    "                             unc_func                = uphc.sum_unc_photonics) #eval(Qlunc_yaml_inputs['Modules']['Photonics Module']['Uncertainty function']))\n"
   ]
  },
  {
   "cell_type": "markdown",
   "metadata": {},
   "source": [
    "#### Lidar general inputs:"
   ]
  },
  {
   "cell_type": "code",
   "execution_count": 14,
   "metadata": {},
   "outputs": [
    {
     "name": "stdout",
     "output_type": "stream",
     "text": [
      "Created new lidar general inputs: Lidar_gral_inputs_Yaml\n"
     ]
    }
   ],
   "source": [
    "# Instantiating lidar general inputs\n",
    "Lidar_inputs     = lidar_gral_inp(name        = Qlunc_yaml_inputs['Components']['Lidar general inputs']['Name'],      # Introduce the name of your lidar data folder.\n",
    "                                  wave        = Qlunc_yaml_inputs['Components']['Lidar general inputs']['Wavelength'],                    # In [m]. Lidar wavelength.\n",
    "                                  ltype       = Qlunc_yaml_inputs['Components']['Lidar general inputs']['Type'],\n",
    "                                  yaw_error   = Qlunc_yaml_inputs['Components']['Lidar general inputs']['Yaw error'],                          # In [°]. Degrees of rotation around z axis because of inclinometer errors\n",
    "                                  pitch_error = Qlunc_yaml_inputs['Components']['Lidar general inputs']['Pitch error'],                          # In [°]. Degrees of rotation around y axis\n",
    "                                  roll_error  = Qlunc_yaml_inputs['Components']['Lidar general inputs']['Roll error'],                        # In [°]. Degrees of rotation around z axis.\n",
    "                                  dataframe   = { })  # Final dataframe\n"
   ]
  },
  {
   "cell_type": "markdown",
   "metadata": {},
   "source": [
    "#### Atmospheric scenarios:\n",
    "We can create different atmospheric scenarios under which the lidar uncertainties are assessed. Thus, single or multiple scenarios can be evaluated either including single or time-seried atmospheric variables values."
   ]
  },
  {
   "cell_type": "code",
   "execution_count": 15,
   "metadata": {},
   "outputs": [
    {
     "name": "stdout",
     "output_type": "stream",
     "text": [
      "Created new atmosphere: Atmosphere1\n"
     ]
    }
   ],
   "source": [
    "# Instantiating atmospheric scenario(s):\n",
    "Atmospheric_TimeSeries = Qlunc_yaml_inputs['Atmospheric_inputs']['TimeSeries']  \n",
    "                                                                           \n",
    "if Atmospheric_TimeSeries:\n",
    "    Atmos_TS_FILE           = '../metadata/AtmosphericData/'+Qlunc_yaml_inputs['Atmospheric_inputs']['Atmos_TS_FILE']\n",
    "    AtmosphericScenarios_TS = pd.read_csv(Atmos_TS_FILE,delimiter=';',decimal=',')\n",
    "    Atmospheric_inputs = {\n",
    "                          'temperature' : list(AtmosphericScenarios_TS.loc[:,'T']),    \n",
    "                          'humidity'    : list(AtmosphericScenarios_TS.loc[:,'H']),    \n",
    "                          'rain'        : list(AtmosphericScenarios_TS.loc[:,'rain']),\n",
    "                          'fog'         : list(AtmosphericScenarios_TS.loc[:,'fog']),\n",
    "                          'time'        : list(AtmosphericScenarios_TS.loc[:,'t'])     \n",
    "                          } \n",
    "    Atmospheric_Scenario = atmosphere(name        = 'Atmosphere1',\n",
    "                                      temperature = Atmospheric_inputs['temperature'])\n",
    "else:    \n",
    "\n",
    "    Atmospheric_Scenario = atmosphere(name        = 'Atmosphere1',\n",
    "                                      temperature = Qlunc_yaml_inputs['Atmospheric_inputs']['Temperature'])"
   ]
  },
  {
   "cell_type": "markdown",
   "metadata": {},
   "source": [
    "#### Lidar digital twin:\n",
    "Putting all python objects together, like a puzzle, we make up a lidar digital twin. This enable assessing lidar uncertainties before a lidar is manufactured:"
   ]
  },
  {
   "cell_type": "code",
   "execution_count": 16,
   "metadata": {},
   "outputs": [
    {
     "name": "stdout",
     "output_type": "stream",
     "text": [
      "Created new lidar device: Caixa1\n"
     ]
    }
   ],
   "source": [
    "# Instantiating lidar device:\n",
    "Lidar = lidar(name              = Qlunc_yaml_inputs['Lidar']['Name'],                       # Introduce the name of your lidar device.\n",
    "              photonics         = Photonics_Module, #eval(Qlunc_yaml_inputs['Lidar']['Photonics module']),     # Introduce the name of your photonics module.\n",
    "              optics            = Optics_Module, #eval(Qlunc_yaml_inputs['Lidar']['Optics module']),        # Introduce the name of your optics module.\n",
    "              power             = None, #eval(Qlunc_yaml_inputs['Lidar']['Power module']),         # Introduce the name of your power module. NOT IMPLEMENTED YET!\n",
    "              signal_processor  = None,\n",
    "              wfr_model         = WFR_M,\n",
    "              filt_method       = None,\n",
    "              probe_volume      = Probe_Volume, \n",
    "              lidar_inputs      = Lidar_inputs, #eval(Qlunc_yaml_inputs['Lidar']['Lidar inputs']),         # Introduce lidar general inputs\n",
    "              unc_func          = ulc.sum_unc_lidar) #eval(Qlunc_yaml_inputs['Lidar']['Uncertainty function'])) # Function estimating lidar global uncertainty\n"
   ]
  },
  {
   "cell_type": "markdown",
   "metadata": {},
   "source": [
    "### **Calculating errors**:\n",
    "Now we can ask for the error we are interested in. The modularity of the code allows us to ask separately either for a specific component or module uncertainty, or the global lidar uncertainty. \n",
    "\n",
    "As an example, we can ask for the optical amplifier uncertainty contribution. The uncertainty value is stored in *OpticalAmplifier_uncertainty*:"
   ]
  },
  {
   "cell_type": "code",
   "execution_count": 17,
   "metadata": {},
   "outputs": [
    {
     "name": "stdout",
     "output_type": "stream",
     "text": [
      "{'Uncertainty_OpticalAmp': [array([-24.5645152])], 'OSNR': array([       -inf, -5.4374729 , -2.42717294, -0.66626035,  0.58312701,\n",
      "        1.55222714,  2.3440396 ,  3.0135075 ,  3.59342697,  4.1049522 ,\n",
      "        4.5625271 ,  4.97645395,  5.35433956,  5.70196062,  6.02380746,\n",
      "        6.32343969,  6.60372693,  6.86701631,  7.11525215,  7.35006311,\n",
      "        7.57282706,  7.78472005,  7.98675391,  8.17980546,  8.36463952,\n",
      "        8.54192719,  8.71226058,  8.87616474,  9.03410741,  9.18650708,\n",
      "        9.33373965,  9.47614404,  9.61402688,  9.7476665 ,  9.87731627,\n",
      "       10.00320754, 10.12555211, 10.24454434, 10.36036307, 10.47317317,\n",
      "       10.58312701, 10.69036567, 10.79502   , 10.89721166, 10.99705387,\n",
      "       11.09465224, 11.19010542, 11.28350568, 11.37493947, 11.4644879 ,\n",
      "       11.55222714, 11.63822886, 11.72256054, 11.8052858 , 11.8864647 ,\n",
      "       11.966154  , 12.04440737, 12.12127566, 12.19680704, 12.27104722,\n",
      "       12.3440396 , 12.41582545, 12.486444  , 12.5559326 , 12.62432684,\n",
      "       12.69166067, 12.75796646, 12.82327513, 12.88761623, 12.95101801,\n",
      "       13.0135075 , 13.07511059, 13.13585207, 13.1957557 , 13.2548443 ,\n",
      "       13.31313973, 13.37066302, 13.42743435, 13.48347313, 13.53879801,\n",
      "       13.59342697, 13.64737729, 13.70066562, 13.75330802, 13.80531996,\n",
      "       13.85671636, 13.90751161, 13.95771963, 14.00735382, 14.05642717,\n",
      "       14.1049522 , 14.15294102, 14.20040537, 14.24735659, 14.29380564,\n",
      "       14.33976315, 14.38523943, 14.43024444, 14.47478786, 14.51887905,\n",
      "       14.5625271 , 14.60574084, 14.64852882, 14.69089935, 14.73286049,\n",
      "       14.77442009, 14.81558575, 14.85636488, 14.89676466, 14.93679208,\n",
      "       14.97645395, 15.01575689, 15.05470733, 15.09331154, 15.13157561,\n",
      "       15.1695055 , 15.20710699, 15.24438572, 15.28134717, 15.31799671,\n",
      "       15.35433956, 15.3903808 , 15.42612541, 15.46157822, 15.49674395,\n",
      "       15.53162723, 15.56623255, 15.60056431, 15.6346268 , 15.6684242 ,\n",
      "       15.70196062, 15.73524006, 15.76826641, 15.80104351, 15.83357508,\n",
      "       15.86586479, 15.89791618, 15.92973277, 15.96131796, 15.9926751 ,\n",
      "       16.02380746, 16.05471823, 16.08541054, 16.11588748, 16.14615202,\n",
      "       16.17620712, 16.20605566, 16.23570045, 16.26514425, 16.29438979,\n",
      "       16.32343969, 16.35229657, 16.38096298, 16.40944141, 16.43773431,\n",
      "       16.46584408, 16.49377308, 16.52152362, 16.54909797, 16.57649834,\n",
      "       16.60372693, 16.63078586, 16.65767725, 16.68440314, 16.71096558,\n",
      "       16.73736654, 16.76360798, 16.78969181, 16.81561992, 16.84139415,\n",
      "       16.86701631, 16.8924882 , 16.91781157, 16.94298813, 16.96801958,\n",
      "       16.99290759, 17.01765378, 17.04225976, 17.06672712, 17.09105741,\n",
      "       17.11525215, 17.13931285, 17.16324098, 17.187038  , 17.21070533,\n",
      "       17.23424438, 17.25765654, 17.28094317, 17.30410559, 17.32714514,\n",
      "       17.35006311, 17.37286077, 17.39553939, 17.41810019, 17.4405444 ,\n",
      "       17.46287321, 17.48508781, 17.50718936, 17.529179  , 17.55105786,\n",
      "       17.57282706, 17.59448768, 17.6160408 , 17.63748748, 17.65882878,\n",
      "       17.68006571, 17.7011993 , 17.72223056, 17.74316045, 17.76398996,\n",
      "       17.78472005, 17.80535165, 17.82588571, 17.84632314, 17.86666483,\n",
      "       17.8869117 , 17.90706461, 17.92712444, 17.94709204, 17.96696825,\n",
      "       17.98675391, 18.00644984, 18.02605685, 18.04557573, 18.06500728,\n",
      "       18.08435228, 18.10361149, 18.12278567, 18.14187557, 18.16088192,\n",
      "       18.17980546, 18.1986469 , 18.21740695, 18.23608631, 18.25468567,\n",
      "       18.27320572, 18.29164713, 18.31001056, 18.32829667, 18.34650611,\n",
      "       18.36463952, 18.38269753, 18.40068076, 18.41858984, 18.43642536,\n",
      "       18.45418794, 18.47187817, 18.48949663, 18.50704391, 18.52452057,\n",
      "       18.54192719, 18.55926432, 18.57653251, 18.59373231, 18.61086427,\n",
      "       18.62792891, 18.64492675, 18.66185833, 18.67872416, 18.69552474,\n",
      "       18.71226058, 18.72893217, 18.74554001, 18.76208459, 18.77856637,\n",
      "       18.79498584, 18.81134347, 18.82763971, 18.84387504, 18.8600499 ,\n",
      "       18.87616474, 18.89222001, 18.90821614, 18.92415357, 18.94003273,\n",
      "       18.95585404, 18.97161792, 18.98732479, 19.00297506, 19.01856913,\n",
      "       19.03410741, 19.0495903 , 19.06501818, 19.08039146, 19.0957105 ,\n",
      "       19.1109757 , 19.12618743, 19.14134607, 19.15645198, 19.17150553,\n",
      "       19.18650708, 19.20145699, 19.21635562, 19.2312033 , 19.24600041,\n",
      "       19.26074726, 19.27544421, 19.29009159, 19.30468974, 19.31923898,\n",
      "       19.33373965, 19.34819206, 19.36259653, 19.37695339, 19.39126294,\n",
      "       19.40552549, 19.41974137, 19.43391086, 19.44803427, 19.4621119 ,\n",
      "       19.47614404, 19.49013099, 19.50407304, 19.51797048, 19.53182358,\n",
      "       19.54563264, 19.55939793, 19.57311972, 19.5867983 , 19.60043393,\n",
      "       19.61402688, 19.62757742, 19.64108582, 19.65455232, 19.6679772 ,\n",
      "       19.68136071, 19.6947031 , 19.70800463, 19.72126554, 19.73448608,\n",
      "       19.7476665 , 19.76080704, 19.77390794, 19.78696944, 19.79999177,\n",
      "       19.81297517, 19.82591987, 19.83882611, 19.8516941 , 19.86452408,\n",
      "       19.87731627, 19.89007089, 19.90278816, 19.9154683 , 19.92811153,\n",
      "       19.94071805, 19.95328809, 19.96582185, 19.97831954, 19.99078137,\n",
      "       20.00320754, 20.01559827, 20.02795374, 20.04027415, 20.05255972,\n",
      "       20.06481063, 20.07702708, 20.08920926, 20.10135737, 20.11347159,\n",
      "       20.12555211, 20.13759912, 20.14961281, 20.16159335, 20.17354094,\n",
      "       20.18545575, 20.19733795, 20.20918774, 20.22100529, 20.23279076,\n",
      "       20.24454434, 20.2562662 , 20.2679565 , 20.27961542, 20.29124312,\n",
      "       20.30283978, 20.31440555, 20.3259406 , 20.3374451 , 20.3489192 ,\n",
      "       20.36036307, 20.37177686, 20.38316073, 20.39451484, 20.40583934,\n",
      "       20.4171344 , 20.42840015, 20.43963675, 20.45084436, 20.46202311,\n",
      "       20.47317317, 20.48429467, 20.49538777, 20.5064526 , 20.51748932,\n",
      "       20.52849806, 20.53947896, 20.55043217, 20.56135782, 20.57225606,\n",
      "       20.58312701, 20.59397083, 20.60478763, 20.61557756, 20.62634075,\n",
      "       20.63707733, 20.64778744, 20.65847119, 20.66912873, 20.67976018,\n",
      "       20.69036567, 20.70094532, 20.71149926, 20.72202762, 20.73253051,\n",
      "       20.74300807, 20.75346041, 20.76388765, 20.77428992, 20.78466733,\n",
      "       20.79502   , 20.80534806, 20.81565161, 20.82593077, 20.83618567,\n",
      "       20.8464164 , 20.85662309, 20.86680585, 20.87696479, 20.88710002,\n",
      "       20.89721166, 20.9072998 , 20.91736457, 20.92740606, 20.9374244 ,\n",
      "       20.94741967, 20.95739199, 20.96734147, 20.97726821, 20.9871723 ,\n",
      "       20.99705387, 21.006913  , 21.01674979, 21.02656436, 21.0363568 ,\n",
      "       21.04612721, 21.05587569, 21.06560233, 21.07530724, 21.08499051,\n",
      "       21.09465224, 21.10429252, 21.11391145, 21.12350912, 21.13308563,\n",
      "       21.14264107, 21.15217553, 21.1616891 , 21.17118188, 21.18065396,\n",
      "       21.19010542, 21.19953635, 21.20894686, 21.21833701, 21.22770691,\n",
      "       21.23705663, 21.24638627, 21.25569591, 21.26498563, 21.27425553,\n",
      "       21.28350568, 21.29273617, 21.30194709, 21.31113851, 21.32031052,\n",
      "       21.3294632 , 21.33859663, 21.34771089, 21.35680607, 21.36588224,\n",
      "       21.37493947, 21.38397786, 21.39299748, 21.40199841, 21.41098072,\n",
      "       21.41994449, 21.42888979, 21.43781671, 21.44672532, 21.45561569,\n",
      "       21.4644879 , 21.47334202, 21.48217813, 21.49099629, 21.49979659,\n",
      "       21.50857909, 21.51734387, 21.52609099, 21.53482053, 21.54353256,\n",
      "       21.55222714, 21.56090436, 21.56956427, 21.57820695, 21.58683247,\n",
      "       21.59544088, 21.60403227, 21.61260669, 21.62116422, 21.62970492,\n",
      "       21.63822886, 21.6467361 , 21.65522671, 21.66370075, 21.67215829,\n",
      "       21.68059939, 21.68902412, 21.69743253, 21.7058247 , 21.71420068,\n",
      "       21.72256054, 21.73090433, 21.73923213, 21.74754399, 21.75583997,\n",
      "       21.76412013, 21.77238454, 21.78063325, 21.78886633, 21.79708382,\n",
      "       21.8052858 , 21.81347231, 21.82164342, 21.82979919, 21.83793967,\n",
      "       21.84606492, 21.854175  , 21.86226996, 21.87034986, 21.87841475,\n",
      "       21.8864647 , 21.89449975, 21.90251997, 21.9105254 , 21.9185161 ,\n",
      "       21.92649212, 21.93445353, 21.94240036, 21.95033269, 21.95825055,\n",
      "       21.966154  , 21.97404309, 21.98191788, 21.98977841, 21.99762475,\n",
      "       22.00545693, 22.01327502, 22.02107905, 22.02886909, 22.03664518,\n",
      "       22.04440737, 22.05215571, 22.05989026, 22.06761105, 22.07531814,\n",
      "       22.08301158, 22.09069141, 22.09835769, 22.10601046, 22.11364976,\n",
      "       22.12127566, 22.12888818, 22.13648739, 22.14407332, 22.15164602,\n",
      "       22.15920555, 22.16675194, 22.17428523, 22.18180549, 22.18931274,\n",
      "       22.19680704, 22.20428842, 22.21175695, 22.21921265, 22.22665557,\n",
      "       22.23408576, 22.24150326, 22.24890811, 22.25630036, 22.26368005,\n",
      "       22.27104722, 22.27840191, 22.28574417, 22.29307403, 22.30039155,\n",
      "       22.30769676, 22.3149897 , 22.32227041, 22.32953894, 22.33679532,\n",
      "       22.3440396 , 22.35127182, 22.35849201, 22.36570022, 22.37289649,\n",
      "       22.38008085, 22.38725334, 22.39441401, 22.40156289, 22.40870003,\n",
      "       22.41582545, 22.4229392 , 22.43004132, 22.43713185, 22.44421081,\n",
      "       22.45127826, 22.45833422, 22.46537874, 22.47241185, 22.47943359,\n",
      "       22.486444  , 22.4934431 , 22.50043095, 22.50740757, 22.514373  ,\n",
      "       22.52132727, 22.52827043, 22.53520251, 22.54212354, 22.54903356,\n",
      "       22.5559326 , 22.56282069, 22.56969788, 22.5765642 , 22.58341968,\n",
      "       22.59026435, 22.59709826, 22.60392142, 22.61073389, 22.61753568,\n",
      "       22.62432684, 22.6311074 , 22.63787738, 22.64463683, 22.65138577,\n",
      "       22.65812425, 22.66485228, 22.67156991, 22.67827716, 22.68497407,\n",
      "       22.69166067, 22.69833699, 22.70500306, 22.71165891, 22.71830458,\n",
      "       22.7249401 , 22.73156549, 22.7381808 , 22.74478604, 22.75138125,\n",
      "       22.75796646, 22.7645417 , 22.771107  , 22.77766238, 22.78420789,\n",
      "       22.79074355, 22.79726939, 22.80378544, 22.81029173, 22.81678828,\n",
      "       22.82327513, 22.8297523 , 22.83621983, 22.84267774, 22.84912607,\n",
      "       22.85556483, 22.86199406, 22.86841379, 22.87482404, 22.88122484,\n",
      "       22.88761623, 22.89399822, 22.90037085, 22.90673414, 22.91308812,\n",
      "       22.91943282, 22.92576826, 22.93209447, 22.93841148, 22.94471932,\n",
      "       22.95101801, 22.95730757, 22.96358805, 22.96985945, 22.97612181,\n",
      "       22.98237515, 22.9886195 , 22.99485488, 23.00108133, 23.00729886,\n",
      "       23.0135075 , 23.01970728, 23.02589822, 23.03208035, 23.03825369,\n",
      "       23.04441827, 23.05057411, 23.05672124, 23.06285968, 23.06898945,\n",
      "       23.07511059, 23.08122311, 23.08732704, 23.0934224 , 23.09950922,\n",
      "       23.10558752, 23.11165732, 23.11771866, 23.12377154, 23.129816  ,\n",
      "       23.13585207, 23.14187975, 23.14789908, 23.15391007, 23.15991276,\n",
      "       23.16590717, 23.17189331, 23.17787121, 23.18384089, 23.18980238,\n",
      "       23.1957557 , 23.20170087, 23.20763791, 23.21356685, 23.2194877 ,\n",
      "       23.22540049, 23.23130524, 23.23720198, 23.24309072, 23.24897148,\n",
      "       23.2548443 , 23.26070918, 23.26656615, 23.27241524, 23.27825646,\n",
      "       23.28408983, 23.28991538, 23.29573312, 23.30154308, 23.30734528,\n",
      "       23.31313973, 23.31892647, 23.32470551, 23.33047686, 23.33624056,\n",
      "       23.34199662, 23.34774506, 23.3534859 , 23.35921916, 23.36494486,\n",
      "       23.37066302, 23.37637367, 23.38207681, 23.38777248, 23.39346069,\n",
      "       23.39914145, 23.4048148 , 23.41048074, 23.4161393 , 23.4217905 ,\n",
      "       23.42743435, 23.43307088, 23.4387001 , 23.44432204, 23.44993671,\n",
      "       23.45554413, 23.46114431, 23.46673729, 23.47232307, 23.47790168,\n",
      "       23.48347313, 23.48903744, 23.49459463, 23.50014472, 23.50568773,\n",
      "       23.51122367, 23.51675256, 23.52227442, 23.52778928, 23.53329713,\n",
      "       23.53879801, 23.54429194, 23.54977892, 23.55525897, 23.56073213,\n",
      "       23.56619839, 23.57165778, 23.57711031, 23.58255601, 23.58799489,\n",
      "       23.59342697, 23.59885226, 23.60427078, 23.60968255, 23.61508759,\n",
      "       23.6204859 , 23.62587752, 23.63126245, 23.63664071, 23.64201232,\n",
      "       23.64737729, 23.65273564, 23.65808739, 23.66343256, 23.66877115,\n",
      "       23.67410319, 23.67942869, 23.68474767, 23.69006014, 23.69536612,\n",
      "       23.70066562, 23.70595867, 23.71124528, 23.71652545, 23.72179922,\n",
      "       23.72706659, 23.73232757, 23.7375822 , 23.74283047, 23.74807241,\n",
      "       23.75330802, 23.75853734, 23.76376036, 23.76897711, 23.77418761,\n",
      "       23.77939186, 23.78458988, 23.78978168, 23.79496729, 23.80014671,\n",
      "       23.80531996, 23.81048706, 23.81564802, 23.82080285, 23.82595157,\n",
      "       23.83109419, 23.83623073, 23.8413612 , 23.84648562, 23.851604  ,\n",
      "       23.85671636, 23.8618227 , 23.86692305, 23.87201741, 23.87710581,\n",
      "       23.88218825, 23.88726475, 23.89233532, 23.89739998, 23.90245874,\n",
      "       23.90751161, 23.91255862, 23.91759976, 23.92263506, 23.92766453,\n",
      "       23.93268818, 23.93770602, 23.94271808, 23.94772435, 23.95272487,\n",
      "       23.95771963, 23.96270865, 23.96769195, 23.97266954, 23.97764143,\n",
      "       23.98260763, 23.98756816, 23.99252303, 23.99747226, 24.00241585,\n",
      "       24.00735382, 24.01228619, 24.01721295, 24.02213414, 24.02704975,\n",
      "       24.03195981, 24.03686432, 24.0417633 , 24.04665676, 24.05154471,\n",
      "       24.05642717, 24.06130414, 24.06617564, 24.07104169, 24.07590229,\n",
      "       24.08075745, 24.0856072 , 24.09045153, 24.09529047, 24.10012402,\n",
      "       24.1049522 , 24.10977501, 24.11459248, 24.1194046 , 24.12421141,\n",
      "       24.12901289, 24.13380908, 24.13859997, 24.14338559, 24.14816593,\n",
      "       24.15294102, 24.15771087, 24.16247548, 24.16723488, 24.17198906,\n",
      "       24.17673804, 24.18148184, 24.18622046, 24.19095391, 24.19568221,\n",
      "       24.20040537, 24.2051234 , 24.20983631, 24.21454411, 24.21924681,\n",
      "       24.22394443, 24.22863697, 24.23332444, 24.23800686, 24.24268424,\n",
      "       24.24735659, 24.25202391, 24.25668622, 24.26134354, 24.26599586,\n",
      "       24.27064321, 24.27528559, 24.27992301, 24.28455548, 24.28918302,\n",
      "       24.29380564, 24.29842334, 24.30303613, 24.30764403, 24.31224704,\n",
      "       24.31684519, 24.32143846, 24.32602689, 24.33061047, 24.33518923,\n",
      "       24.33976315, 24.34433227, 24.34889658, 24.35345611, 24.35801085,\n",
      "       24.36256082, 24.36710602, 24.37164648, 24.37618219, 24.38071317,\n",
      "       24.38523943, 24.38976098, 24.39427782, 24.39878997, 24.40329744,\n",
      "       24.40780023, 24.41229837, 24.41679184, 24.42128067, 24.42576487,\n",
      "       24.43024444, 24.4347194 , 24.43918975, 24.4436555 , 24.44811667,\n",
      "       24.45257326, 24.45702528, 24.46147274, 24.46591565, 24.47035402,\n",
      "       24.47478786, 24.47921717, 24.48364198, 24.48806228, 24.49247809,\n",
      "       24.49688941, 24.50129625, 24.50569863, 24.51009655, 24.51449002,\n",
      "       24.51887905, 24.52326365, 24.52764382, 24.53201959, 24.53639094,\n",
      "       24.54075791, 24.54512049, 24.54947868, 24.55383251, 24.55818198])}\n"
     ]
    },
    {
     "name": "stderr",
     "output_type": "stream",
     "text": [
      "C:\\SWE_LOCAL\\GIT_Qlunc\\UQ_Functions\\UQ_Photonics_Classes.py:163: RuntimeWarning: divide by zero encountered in log10\n",
      "  OSNR_plot = 10*np.log10(((Lidar.photonics.optical_amplifier.Power_interval)/(NF_w*cts.h*(cts.c/Lidar.lidar_inputs.Wavelength)*Lidar.photonics.optical_amplifier.OA_BW))/1000)\n"
     ]
    }
   ],
   "source": [
    "OpticalAmplifier_uncertainty,OpticalAmplifier_df = Lidar.photonics.optical_amplifier.Uncertainty(Lidar,Atmospheric_Scenario,cts,Qlunc_yaml_inputs)\n",
    "# print(OpticalAmplifier_df)\n",
    "print(OpticalAmplifier_uncertainty)"
   ]
  },
  {
   "cell_type": "code",
   "execution_count": 18,
   "metadata": {},
   "outputs": [
    {
     "name": "stdout",
     "output_type": "stream",
     "text": [
      "There is NO TIA component in the photodetector\n",
      "You didn´t include a laser in the lidar,so that laser uncertainty contribution is not in lidar uncertainty estimations.\n",
      "{'Optical Amplifier': array([-24.5645152]), 'Photodetector': array([-121.72540351]), 'Photonics Module': array([-24.5645152])}\n"
     ]
    }
   ],
   "source": [
    "Photonics_Uncertainty,Photonics_df = Lidar.photonics.Uncertainty(Lidar,Atmospheric_Scenario,cts,Qlunc_yaml_inputs)\n",
    "print(Photonics_df)"
   ]
  },
  {
   "cell_type": "markdown",
   "metadata": {},
   "source": [
    "Or,  eventually we can ask for the lidar global uncertainty, where uncertainties coming from the different lidar modules are taken into account and combined following GUM suggestions:"
   ]
  },
  {
   "cell_type": "code",
   "execution_count": 19,
   "metadata": {
    "scrolled": true
   },
   "outputs": [
    {
     "name": "stdout",
     "output_type": "stream",
     "text": [
      "Processing lidar uncertainties...\n",
      "There is NO TIA component in the photodetector\n",
      "You didn´t include a laser in the lidar,so that laser uncertainty contribution is not in lidar uncertainty estimations.\n",
      "> \u001b[1;32mc:\\swe_local\\git_qlunc\\uq_functions\\uq_optics_classes.py\u001b[0m(65)\u001b[0;36mUQ_Scanner\u001b[1;34m()\u001b[0m\n",
      "\u001b[1;32m     63 \u001b[1;33m    \u001b[1;31m# pdb.set_trace()\u001b[0m\u001b[1;33m\u001b[0m\u001b[1;33m\u001b[0m\u001b[1;33m\u001b[0m\u001b[0m\n",
      "\u001b[0m\u001b[1;32m     64 \u001b[1;33m    \u001b[1;31m# R: Implement error in deployment of the tripod as a rotation over yaw, pitch and roll\u001b[0m\u001b[1;33m\u001b[0m\u001b[1;33m\u001b[0m\u001b[1;33m\u001b[0m\u001b[0m\n",
      "\u001b[0m\u001b[1;32m---> 65 \u001b[1;33m    \u001b[0mstdv_yaw\u001b[0m    \u001b[1;33m=\u001b[0m \u001b[0mnp\u001b[0m\u001b[1;33m.\u001b[0m\u001b[0marray\u001b[0m\u001b[1;33m(\u001b[0m\u001b[0mnp\u001b[0m\u001b[1;33m.\u001b[0m\u001b[0mdeg2rad\u001b[0m\u001b[1;33m(\u001b[0m\u001b[0mLidar\u001b[0m\u001b[1;33m.\u001b[0m\u001b[0mlidar_inputs\u001b[0m\u001b[1;33m.\u001b[0m\u001b[0myaw_error_dep\u001b[0m\u001b[1;33m)\u001b[0m\u001b[1;33m)\u001b[0m\u001b[1;33m\u001b[0m\u001b[1;33m\u001b[0m\u001b[0m\n",
      "\u001b[0m\u001b[1;32m     66 \u001b[1;33m    \u001b[0mstdv_pitch\u001b[0m  \u001b[1;33m=\u001b[0m \u001b[0mnp\u001b[0m\u001b[1;33m.\u001b[0m\u001b[0marray\u001b[0m\u001b[1;33m(\u001b[0m\u001b[0mnp\u001b[0m\u001b[1;33m.\u001b[0m\u001b[0mdeg2rad\u001b[0m\u001b[1;33m(\u001b[0m\u001b[0mLidar\u001b[0m\u001b[1;33m.\u001b[0m\u001b[0mlidar_inputs\u001b[0m\u001b[1;33m.\u001b[0m\u001b[0mpitch_error_dep\u001b[0m\u001b[1;33m)\u001b[0m\u001b[1;33m)\u001b[0m\u001b[1;33m\u001b[0m\u001b[1;33m\u001b[0m\u001b[0m\n",
      "\u001b[0m\u001b[1;32m     67 \u001b[1;33m    \u001b[0mstdv_roll\u001b[0m   \u001b[1;33m=\u001b[0m \u001b[0mnp\u001b[0m\u001b[1;33m.\u001b[0m\u001b[0marray\u001b[0m\u001b[1;33m(\u001b[0m\u001b[0mnp\u001b[0m\u001b[1;33m.\u001b[0m\u001b[0mdeg2rad\u001b[0m\u001b[1;33m(\u001b[0m\u001b[0mLidar\u001b[0m\u001b[1;33m.\u001b[0m\u001b[0mlidar_inputs\u001b[0m\u001b[1;33m.\u001b[0m\u001b[0mroll_error_dep\u001b[0m\u001b[1;33m)\u001b[0m\u001b[1;33m)\u001b[0m\u001b[1;33m\u001b[0m\u001b[1;33m\u001b[0m\u001b[0m\n",
      "\u001b[0m\n",
      "ipdb> c\n",
      "> \u001b[1;32mc:\\swe_local\\git_qlunc\\uq_functions\\uq_probevolume_classes.py\u001b[0m(56)\u001b[0;36mUQ_Probe_volume\u001b[1;34m()\u001b[0m\n",
      "\u001b[1;32m     54 \u001b[1;33m        \u001b[0mpdb\u001b[0m\u001b[1;33m.\u001b[0m\u001b[0mset_trace\u001b[0m\u001b[1;33m(\u001b[0m\u001b[1;33m)\u001b[0m\u001b[1;33m\u001b[0m\u001b[1;33m\u001b[0m\u001b[0m\n",
      "\u001b[0m\u001b[1;32m     55 \u001b[1;33m        \u001b[1;31m# Saving rayleigh length to a file in ./metadata to be read by matlab\u001b[0m\u001b[1;33m\u001b[0m\u001b[1;33m\u001b[0m\u001b[1;33m\u001b[0m\u001b[0m\n",
      "\u001b[0m\u001b[1;32m---> 56 \u001b[1;33m        \u001b[1;32mif\u001b[0m \u001b[0mos\u001b[0m\u001b[1;33m.\u001b[0m\u001b[0mpath\u001b[0m\u001b[1;33m.\u001b[0m\u001b[0misfile\u001b[0m\u001b[1;33m(\u001b[0m\u001b[1;34m'./metadata/rayleigh_distance.txt'\u001b[0m\u001b[1;33m)\u001b[0m\u001b[1;33m:\u001b[0m\u001b[1;33m\u001b[0m\u001b[1;33m\u001b[0m\u001b[0m\n",
      "\u001b[0m\u001b[1;32m     57 \u001b[1;33m            \u001b[0mos\u001b[0m\u001b[1;33m.\u001b[0m\u001b[0mremove\u001b[0m\u001b[1;33m(\u001b[0m\u001b[1;34m'./metadata/rayleigh_distance.txt'\u001b[0m\u001b[1;33m)\u001b[0m\u001b[1;33m\u001b[0m\u001b[1;33m\u001b[0m\u001b[0m\n",
      "\u001b[0m\u001b[1;32m     58 \u001b[1;33m            \u001b[0mfile\u001b[0m\u001b[1;33m=\u001b[0m\u001b[0mopen\u001b[0m\u001b[1;33m(\u001b[0m\u001b[1;34m'./metadata/rayleigh_distance.txt'\u001b[0m\u001b[1;33m,\u001b[0m\u001b[1;34m'w'\u001b[0m\u001b[1;33m)\u001b[0m\u001b[1;33m\u001b[0m\u001b[1;33m\u001b[0m\u001b[0m\n",
      "\u001b[0m\n",
      "ipdb> c\n",
      "Error in telescope uncertainty calculations!\n",
      "No telescope in the photonics module. Telescope is not in lidar uncertainty estimations\n",
      "You didn´t include a power module in  the lidar\n",
      "Lidar uncertainty done\n",
      "({'Lidar_Uncertainty': -24.56451520309253}, {'Optical Amplifier': array([-24.5645152]), 'Photodetector': array([-121.72540351]), 'Photonics Module': array([-24.5645152]), 'Scanner': [4.148340015364903], 'Optical circulator': array([-79.03089987]), 'Optics Module': array([-79.03089987]), 'Lidar': array([-24.5645152])}, None)\n"
     ]
    },
    {
     "data": {
      "image/png": "[encoded data removed]",
      "text/plain": [
       "<Figure size 432x288 with 1 Axes>"
      ]
     },
     "metadata": {
      "needs_background": "light"
     },
     "output_type": "display_data"
    }
   ],
   "source": [
    "Lidar_Uncertainty = Lidar.Uncertainty(Lidar,Atmospheric_Scenario,cts,Qlunc_yaml_inputs)\n",
    "print(Lidar_Uncertainty)"
   ]
  },
  {
   "cell_type": "markdown",
   "metadata": {},
   "source": [
    "## Parameters access - dot notation"
   ]
  },
  {
   "cell_type": "markdown",
   "metadata": {},
   "source": [
    "If want to access some parameter, follow dot notation. It can be done in two ways:\n",
    "\n",
    "Either invoking the lidar object instance:\n",
    "> Lidar.optics.scanner.focus_dist\n",
    "\n",
    "or the component specific instance:\n",
    "\n",
    "> Scanner.focus_distance\n",
    "\n",
    "Let's see some examples:\n",
    "\n",
    "### *Focus distance*"
   ]
  },
  {
   "cell_type": "code",
   "execution_count": 20,
   "metadata": {},
   "outputs": [
    {
     "name": "stdout",
     "output_type": "stream",
     "text": [
      "[125 125 125 125 125 125 125 125 125 125]\n"
     ]
    }
   ],
   "source": [
    "print(Scanner.focus_dist)"
   ]
  },
  {
   "cell_type": "code",
   "execution_count": 21,
   "metadata": {},
   "outputs": [
    {
     "name": "stdout",
     "output_type": "stream",
     "text": [
      "[125 125 125 125 125 125 125 125 125 125]\n"
     ]
    }
   ],
   "source": [
    "print(Lidar.optics.scanner.focus_dist)"
   ]
  },
  {
   "cell_type": "markdown",
   "metadata": {},
   "source": [
    "### Optical circulator *insertion loss*"
   ]
  },
  {
   "cell_type": "code",
   "execution_count": 22,
   "metadata": {},
   "outputs": [
    {
     "name": "stdout",
     "output_type": "stream",
     "text": [
      "0.8\n"
     ]
    }
   ],
   "source": [
    "print(Optical_circulator.insertion_loss)"
   ]
  },
  {
   "cell_type": "markdown",
   "metadata": {},
   "source": [
    "### Optical circulator *ID*"
   ]
  },
  {
   "cell_type": "code",
   "execution_count": 23,
   "metadata": {},
   "outputs": [
    {
     "name": "stdout",
     "output_type": "stream",
     "text": [
      "OC_Yaml\n"
     ]
    }
   ],
   "source": [
    "print(Optical_circulator.Optical_CirculatorID)"
   ]
  },
  {
   "cell_type": "markdown",
   "metadata": {},
   "source": [
    "### Optical amplifier gain"
   ]
  },
  {
   "cell_type": "code",
   "execution_count": 24,
   "metadata": {},
   "outputs": [
    {
     "data": {
      "text/plain": [
       "30"
      ]
     },
     "execution_count": 24,
     "metadata": {},
     "output_type": "execute_result"
    }
   ],
   "source": [
    "Lidar.photonics.optical_amplifier.OA_Gain"
   ]
  }
 ],
 "metadata": {
  "kernelspec": {
   "display_name": "Python 3",
   "language": "python",
   "name": "python3"
  },
  "language_info": {
   "codemirror_mode": {
    "name": "ipython",
    "version": 3
   },
   "file_extension": ".py",
   "mimetype": "text/x-python",
   "name": "python",
   "nbconvert_exporter": "python",
   "pygments_lexer": "ipython3",
   "version": "3.7.9"
  }
 },
 "nbformat": 4,
 "nbformat_minor": 4
}
